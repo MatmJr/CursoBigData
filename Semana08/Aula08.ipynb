{
  "cells": [
    {
      "cell_type": "markdown",
      "metadata": {
        "id": "iQIF0jgMi_bZ"
      },
      "source": [
        "# Aula 08\n",
        "\n",
        "# Trabalhando com NoSQL no Python\n",
        "\n",
        "### Instalando o PyMongo:"
      ]
    },
    {
      "cell_type": "markdown",
      "metadata": {
        "id": "Ee8cxF4E6Skr"
      },
      "source": [
        "### Acessando o AtlasDB\n",
        "\n",
        "Após a criação da conta no Atlas e configuração do nosso banco de dados. Vamos estabelecer a conexão:"
      ]
    },
    {
      "cell_type": "code",
      "execution_count": null,
      "metadata": {
        "id": "w3cYF85Gi_bc"
      },
      "outputs": [],
      "source": [
        "from pymongo.mongo_client import MongoClient\n",
        "from pymongo.server_api import ServerApi\n",
        "\n",
        "\n",
        "uri = \"mongodb+srv://<username>:<password>@<clustername>/\"\n",
        "\n",
        "client = MongoClient(uri, server_api=ServerApi('1'))\n",
        "\n",
        "try:\n",
        "    client.admin.command('ping')\n",
        "    print(\"Pinged your deployment. You successfully connected to MongoDB!\")\n",
        "except Exception as e:\n",
        "    print(e)\n"
      ]
    },
    {
      "cell_type": "code",
      "execution_count": null,
      "metadata": {
        "id": "EbTbybrOi_bc"
      },
      "outputs": [],
      "source": [
        "# Seleciona o banco de dados\n",
        "db = client[\"aula07\"]\n",
        "\n",
        "# Seleciona a coleção\n",
        "collection = db[\"cotacoes\"]"
      ]
    },
    {
      "cell_type": "markdown",
      "metadata": {
        "id": "GX4A_a56i_bc"
      },
      "source": [
        "Vamos baixar os 10 últimos anos da cotação do dólar aqui no Brasil.\n",
        "\n"
      ]
    },
    {
      "cell_type": "code",
      "execution_count": 2,
      "metadata": {
        "colab": {
          "base_uri": "https://localhost:8080/"
        },
        "id": "5pYvQlH6i_bd",
        "outputId": "e8248ab6-3a8f-4414-a432-bc8e93211e29"
      },
      "outputs": [
        {
          "name": "stderr",
          "output_type": "stream",
          "text": [
            "\r[*********************100%%**********************]  1 of 1 completed\n"
          ]
        }
      ],
      "source": [
        "import yfinance as yf\n",
        "import json\n",
        "\n",
        "# Defina os pares das moedas no formato correto para forex\n",
        "symbols = [\"USDBRL=X\"]\n",
        "\n",
        "# Defina o período de busca (1 ano)\n",
        "start_date = \"2014-04-21\"\n",
        "end_date = \"2024-04-24\"\n",
        "\n",
        "# Crie um dicionário vazio para armazenar os dados\n",
        "data = {}\n",
        "\n",
        "# Para cada símbolo, extraia os dados e adicione ao dicionário\n",
        "for symbol in symbols:\n",
        "    # Baixe os dados históricos\n",
        "    historical_data = yf.download(symbol, start=start_date, end=end_date)\n",
        "\n",
        "    # Verifique se os dados foram baixados com sucesso\n",
        "    if not historical_data.empty:\n",
        "        # Converta as chaves do DataFrame de Timestamp para string\n",
        "        historical_data.index = historical_data.index.strftime('%Y-%m-%d')\n",
        "        # Converta o DataFrame em um dicionário\n",
        "        symbol_data = historical_data.to_dict()\n",
        "\n",
        "        # Adicione os dados ao dicionário principal\n",
        "        data[symbol] = symbol_data\n",
        "\n",
        "# Salve o dicionário em um arquivo JSON\n",
        "with open(\"cotacoes.json\", \"w\") as outfile:\n",
        "    json.dump(data, outfile, indent=4)\n",
        "\n"
      ]
    },
    {
      "cell_type": "code",
      "execution_count": null,
      "metadata": {
        "id": "6f5ENqTJi_bd"
      },
      "outputs": [],
      "source": [
        "import json\n",
        "\n",
        "# Carrega os dados do arquivo JSON\n",
        "with open(\"cotacoes.json\", \"r\") as file:\n",
        "    data = json.load(file)"
      ]
    },
    {
      "cell_type": "markdown",
      "metadata": {
        "id": "0Yy4_P-Wi_bd"
      },
      "source": [
        "Adicionando o json ao banco de dados outra tabela do banco:"
      ]
    },
    {
      "cell_type": "code",
      "execution_count": null,
      "metadata": {
        "colab": {
          "base_uri": "https://localhost:8080/"
        },
        "id": "j3v18pYli_bd",
        "outputId": "d4c801b3-d4a7-4fb9-c7d7-b7183ef7b774"
      },
      "outputs": [
        {
          "data": {
            "text/plain": [
              "InsertOneResult(ObjectId('66270162f0905ab0546bcda0'), acknowledged=True)"
            ]
          },
          "execution_count": 12,
          "metadata": {},
          "output_type": "execute_result"
        }
      ],
      "source": [
        "collection.insert_one(data)"
      ]
    },
    {
      "cell_type": "markdown",
      "metadata": {
        "id": "givOOxpzaT8w"
      },
      "source": [
        "### Usando os dados para fazer previsão de cenários futuros\n",
        "\n",
        "Agora dispomos de um serviço de banco de dados na nuvem que contém um arquivo específico. Em seguida, simularemos o acesso a esse arquivo para realizar previsões de cenários futuros.\n",
        "\n",
        "O dataset em questão representa a cotação do dólar (em reais) ao longo dos últimos 10 anos.\n",
        "\n",
        "Primeiro, vamos iniciar o processo acessando o JSON que estava no banco de dados."
      ]
    },
    {
      "cell_type": "code",
      "execution_count": 3,
      "metadata": {
        "id": "ORg4l3x7axCu"
      },
      "outputs": [],
      "source": []
    },
    {
      "cell_type": "markdown",
      "metadata": {
        "id": "jGX5nz4mbRLc"
      },
      "source": [
        "Dentro do arquivo JSON, vamos acessar a tag que contém a cotação do dólar de fechamento da bolsa."
      ]
    },
    {
      "cell_type": "code",
      "execution_count": 4,
      "metadata": {
        "id": "4MIJV7m5b4J6"
      },
      "outputs": [],
      "source": []
    },
    {
      "cell_type": "markdown",
      "metadata": {
        "id": "nnZ1Bh19cG8t"
      },
      "source": []
    },
    {
      "cell_type": "code",
      "execution_count": null,
      "metadata": {
        "colab": {
          "base_uri": "https://localhost:8080/"
        },
        "id": "MAsmoeC9cSEZ",
        "outputId": "c96b01d4-dafc-4017-e1de-b7ac096bcb2f"
      },
      "outputs": [],
      "source": []
    },
    {
      "cell_type": "markdown",
      "metadata": {
        "id": "EzhpdrjlcXxZ"
      },
      "source": [
        "Para visualizar o gráfico da cotação do dólar, podemos utilizar a biblioteca `matplotlib`, uma das ferramentas mais populares para a criação de gráficos em Python. Ela oferece uma ampla gama de funcionalidades que permitem a construção de gráficos estáticos, animados e interativos de maneira simples e eficaz. Através do `matplotlib`, é possível customizar gráficos com títulos, legendas e escalas, tornando-os uma escolha versátil para análise e apresentação de dados."
      ]
    },
    {
      "cell_type": "code",
      "execution_count": null,
      "metadata": {
        "colab": {
          "base_uri": "https://localhost:8080/",
          "height": 472
        },
        "id": "xLjN_iNNcpcc",
        "outputId": "41491533-7d6c-4ce9-a563-5f687e6bc5c3"
      },
      "outputs": [],
      "source": []
    },
    {
      "cell_type": "markdown",
      "metadata": {
        "id": "3fhHMr2ldcZ8"
      },
      "source": [
        "Para realizar previsões de cenários futuros, podemos utilizar a biblioteca `Prophet`, desenvolvida pelo Facebook. O Prophet é especializado em previsões para séries temporais, sendo robusto a dados faltantes e mudanças de tendência, e capaz de lidar com efeitos sazonais de diferentes granularidades. Essa ferramenta é particularmente útil para dados que exibem padrões sazonais fortes e várias temporadas de histórico. O Prophet facilita a modelagem de séries temporais, permitindo que analistas e desenvolvedores produzam previsões confiáveis com facilidade."
      ]
    },
    {
      "cell_type": "code",
      "execution_count": null,
      "metadata": {
        "colab": {
          "base_uri": "https://localhost:8080/",
          "height": 783
        },
        "id": "7_ehaWnqdh3s",
        "outputId": "5364a779-ef96-4f67-c83f-bf03f4571387"
      },
      "outputs": [],
      "source": []
    },
    {
      "cell_type": "markdown",
      "metadata": {
        "id": "KGOC2xKud1xB"
      },
      "source": [
        "Exibir componentes da previsão (tendência, sazonalidade)"
      ]
    },
    {
      "cell_type": "code",
      "execution_count": null,
      "metadata": {
        "colab": {
          "base_uri": "https://localhost:8080/",
          "height": 1000
        },
        "id": "V4mscsyPd4Or",
        "outputId": "f8c28a67-0e18-493b-85e8-7105d33664df"
      },
      "outputs": [],
      "source": []
    },
    {
      "cell_type": "markdown",
      "metadata": {
        "id": "d9Ar8yk9eCYB"
      },
      "source": [
        "Esta é uma solução inicial, e percebemos que o modelo ainda não está captando a tendência de alta na cotação que está ocorrendo atualmente. Muitos ajustes são necessários para melhorar a qualidade do ajuste. Ajustar parâmetros, incorporar variáveis externas e refinar a modelagem sazonal são algumas das estratégias que podem ser exploradas para aprimorar as previsões do modelo.\n",
        "\n",
        "Por exemplo, podemos informar ao modelo as datas que foram feriados no Brasil e os períodos que tivemos crise financeira (levei em consideração o período da copa/olimpíadas 2014-2016 e o período da covid 2021-2022)."
      ]
    },
    {
      "cell_type": "code",
      "execution_count": null,
      "metadata": {
        "colab": {
          "base_uri": "https://localhost:8080/",
          "height": 805
        },
        "id": "ddM9X0jXgDnE",
        "outputId": "aa2da9ee-e38e-49a8-84bc-7c1c23892ed8"
      },
      "outputs": [],
      "source": []
    },
    {
      "cell_type": "markdown",
      "metadata": {
        "id": "N3mEwKDAhxfZ"
      },
      "source": [
        "Com os ajustes realizados, houve uma perda de precisão nos dados históricos, porém, os dados mais recentes passaram a se alinhar com a faixa esperada. É importante destacar que este modelo ainda está distante de ser considerado confiável. Para alcançar um modelo mais preciso, seria essencial realizar um estudo aprofundado em séries temporais e economia, o que permitiria refinar as técnicas de modelagem e integrar conhecimentos específicos do mercado financeiro."
      ]
    }
  ],
  "metadata": {
    "colab": {
      "provenance": []
    },
    "kernelspec": {
      "display_name": "venv",
      "language": "python",
      "name": "python3"
    },
    "language_info": {
      "codemirror_mode": {
        "name": "ipython",
        "version": 3
      },
      "file_extension": ".py",
      "mimetype": "text/x-python",
      "name": "python",
      "nbconvert_exporter": "python",
      "pygments_lexer": "ipython3",
      "version": "3.11.9"
    }
  },
  "nbformat": 4,
  "nbformat_minor": 0
}
